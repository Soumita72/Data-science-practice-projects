{
 "cells": [
  {
   "cell_type": "markdown",
   "id": "5c14de4c",
   "metadata": {},
   "source": [
    "Import necessary libraries"
   ]
  },
  {
   "cell_type": "code",
   "execution_count": 1,
   "id": "f16b0dc9",
   "metadata": {},
   "outputs": [],
   "source": [
    "import numpy as np\n",
    "import pandas as pd\n",
    "import seaborn as sn\n",
    "import matplotlib.pyplot as plt\n",
    "from sklearn.feature_extraction.text import TfidfVectorizer"
   ]
  },
  {
   "cell_type": "markdown",
   "id": "6295852b",
   "metadata": {},
   "source": [
    "Collecting and preprocessing of data"
   ]
  },
  {
   "cell_type": "code",
   "execution_count": 2,
   "id": "422e26a5",
   "metadata": {},
   "outputs": [],
   "source": [
    "mail=pd.read_csv(\"mail_data - mail_data.csv\")\n",
    "mail.head()"
   ]
  },
  {
   "cell_type": "code",
   "execution_count": 3,
   "id": "30934f58",
   "metadata": {},
   "outputs": [],
   "source": [
    "mail_data=mail.where((pd.notnull(mail)),'')\n",
    "mail_data"
   ]
  },
  {
   "cell_type": "code",
   "execution_count": 4,
   "id": "b0677096",
   "metadata": {},
   "outputs": [],
   "source": [
    "mail_data.shape"
   ]
  },
  {
   "cell_type": "markdown",
   "id": "0dc8424a",
   "metadata": {},
   "source": [
    "Now labelling spam mail as 0 and ham mail as 1"
   ]
  },
  {
   "cell_type": "code",
   "execution_count": 5,
   "id": "0452e1e9",
   "metadata": {},
   "outputs": [],
   "source": [
    "mail_data.loc[mail_data['Category']== 'spam','Category' ]=0\n",
    "mail_data.loc[mail_data['Category']== 'ham','Category' ]=1"
   ]
  },
  {
   "cell_type": "code",
   "execution_count": 6,
   "id": "0a98d9ae",
   "metadata": {},
   "outputs": [],
   "source": [
    "mail_data"
   ]
  },
  {
   "cell_type": "code",
   "execution_count": 7,
   "id": "61875054",
   "metadata": {},
   "outputs": [],
   "source": [
    "# Separating numbers and text\n",
    "X= mail_data['Message']\n",
    "Y= mail_data['Category']"
   ]
  },
  {
   "cell_type": "code",
   "execution_count": 8,
   "id": "e7cdf35c",
   "metadata": {},
   "outputs": [],
   "source": [
    "from sklearn.linear_model import LogisticRegression\n",
    "from sklearn.model_selection import train_test_split\n",
    "from sklearn.metrics import accuracy_score"
   ]
  },
  {
   "cell_type": "markdown",
   "id": "52ff16dc",
   "metadata": {},
   "source": [
    "Now Train_test_split"
   ]
  },
  {
   "cell_type": "code",
   "execution_count": 9,
   "id": "b79f8cdd",
   "metadata": {},
   "outputs": [],
   "source": [
    "X_train,X_test,Y_train,Y_test= train_test_split(X,Y, test_size= 0.2, random_state=3)"
   ]
  },
  {
   "cell_type": "code",
   "execution_count": 10,
   "id": "615342fe",
   "metadata": {},
   "outputs": [],
   "source": [
    "print(X_train.shape)\n",
    "print(X_test.shape)"
   ]
  },
  {
   "cell_type": "markdown",
   "id": "d77d2d7a",
   "metadata": {},
   "source": [
    "Feature Extraction"
   ]
  },
  {
   "cell_type": "code",
   "execution_count": 11,
   "id": "14d1e0a2",
   "metadata": {},
   "outputs": [],
   "source": [
    "# transform text to feature vectors\n",
    "feature_extraction = TfidfVectorizer(min_df = 1, stop_words='english')\n",
    "\n",
    "X_train_features = feature_extraction.fit_transform(X_train)\n",
    "X_test_features = feature_extraction.transform(X_test)\n",
    "\n",
    "# convert Y_train and Y_test values as integers\n",
    "\n",
    "Y_train = Y_train.astype('int')\n",
    "Y_test = Y_test.astype('int')"
   ]
  },
  {
   "cell_type": "code",
   "execution_count": 12,
   "id": "4c02f05d",
   "metadata": {},
   "outputs": [],
   "source": [
    "print(X_train_features)"
   ]
  },
  {
   "cell_type": "markdown",
   "id": "ff4b4b85",
   "metadata": {},
   "source": [
    "Model"
   ]
  },
  {
   "cell_type": "code",
   "execution_count": 13,
   "id": "659c23b4",
   "metadata": {},
   "outputs": [],
   "source": [
    "#Logistic Regression\n",
    "model= LogisticRegression()\n",
    "model.fit(X_train_features, Y_train)"
   ]
  },
  {
   "cell_type": "code",
   "execution_count": 14,
   "id": "fb471dd7",
   "metadata": {},
   "outputs": [],
   "source": [
    "prediction_data=model.predict(X_train_features)\n",
    "accuracy= accuracy_score(Y_train, prediction_data)\n",
    "accuracy"
   ]
  },
  {
   "cell_type": "code",
   "execution_count": 15,
   "id": "dea7bdfe",
   "metadata": {},
   "outputs": [],
   "source": [
    "prediction_data=model.predict(X_test_features)\n",
    "accuracy= accuracy_score(Y_test, prediction_data)\n",
    "accuracy"
   ]
  },
  {
   "cell_type": "markdown",
   "id": "ecb89307",
   "metadata": {},
   "source": [
    "Prediction of mails"
   ]
  },
  {
   "cell_type": "code",
   "execution_count": 16,
   "id": "a5f9e120",
   "metadata": {},
   "outputs": [],
   "source": [
    "input_mail= ['Hello, hope this mail find you well.I will be really grateful to you if you help me with this confushion']\n",
    "\n",
    "input_features= feature_extraction.transform(input_mail)\n",
    "prediction= model.predict(input_features)\n",
    "prediction\n",
    "\n",
    "if (prediction[0]==1):\n",
    "    print(\"Ham\")\n",
    "else:\n",
    "    print(\"Spam mail\")"
   ]
  },
  {
   "cell_type": "code",
   "execution_count": null,
   "id": "dfbd7c8b",
   "metadata": {},
   "outputs": [],
   "source": []
  }
 ],
 "metadata": {
  "kernelspec": {
   "display_name": "Python 3 (ipykernel)",
   "language": "python",
   "name": "python3"
  },
  "language_info": {
   "codemirror_mode": {
    "name": "ipython",
    "version": 3
   },
   "file_extension": ".py",
   "mimetype": "text/x-python",
   "name": "python",
   "nbconvert_exporter": "python",
   "pygments_lexer": "ipython3",
   "version": "3.11.3"
  }
 },
 "nbformat": 4,
 "nbformat_minor": 5
}
