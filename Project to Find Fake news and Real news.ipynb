{
 "cells": [
  {
   "cell_type": "code",
   "execution_count": 1,
   "id": "73ff8f16",
   "metadata": {},
   "outputs": [],
   "source": [
    "# importing libraries\n",
    "import numpy as np\n",
    "import pandas as pd\n",
    "\n",
    "# importing library to search text in a document\n",
    "import re\n",
    "from nltk.corpus import stopwords\n",
    "from nltk.stem.porter import PorterStemmer\n",
    "\n",
    "#import library to convert text to feature vector\n",
    "from sklearn.feature_extraction.text import TfidfVectorizer\n",
    "\n",
    "# import models\n",
    "from sklearn.linear_model import LogisticRegression\n",
    "from sklearn.model_selection import train_test_split\n",
    "from sklearn.metrics import accuracy_score"
   ]
  },
  {
   "cell_type": "code",
   "execution_count": null,
   "id": "bc2a067f",
   "metadata": {},
   "outputs": [],
   "source": [
    "import nltk\n",
    "nltk.download('stopwords')"
   ]
  },
  {
   "cell_type": "code",
   "execution_count": null,
   "id": "0f203467",
   "metadata": {},
   "outputs": [],
   "source": [
    "#printing stopwordsin english\n",
    "stopwords.words('english')"
   ]
  },
  {
   "cell_type": "markdown",
   "id": "b810875c",
   "metadata": {},
   "source": [
    "Data collecting and Data preprocessing"
   ]
  },
  {
   "cell_type": "code",
   "execution_count": null,
   "id": "ec534232",
   "metadata": {},
   "outputs": [],
   "source": [
    "news= pd.read_csv(\"fake news train.csv\")\n",
    "news.head(5)"
   ]
  },
  {
   "cell_type": "code",
   "execution_count": null,
   "id": "0259aa1e",
   "metadata": {},
   "outputs": [],
   "source": [
    "# counting missing value\n",
    "news.isnull().sum()"
   ]
  },
  {
   "cell_type": "code",
   "execution_count": null,
   "id": "6e93a849",
   "metadata": {},
   "outputs": [],
   "source": [
    "# replacing null values with empty string\n",
    "news= news.fillna(' ')"
   ]
  },
  {
   "cell_type": "code",
   "execution_count": null,
   "id": "2fa5d5f0",
   "metadata": {},
   "outputs": [],
   "source": [
    "# combining author and title name\n",
    "news['merge'] = news['author']+': '+ news['title']\n",
    "news"
   ]
  },
  {
   "cell_type": "code",
   "execution_count": null,
   "id": "eb6ad525",
   "metadata": {},
   "outputs": [],
   "source": [
    "# separating the data and labels\n",
    "X= news.drop(columns='label', axis=1)\n",
    "Y= news['label']"
   ]
  },
  {
   "cell_type": "code",
   "execution_count": 2,
   "id": "69a501cd",
   "metadata": {},
   "outputs": [],
   "source": [
    "# Now preprocessing a text to number\n",
    "port_stem= PorterStemmer()"
   ]
  },
  {
   "cell_type": "code",
   "execution_count": null,
   "id": "e2188682",
   "metadata": {},
   "outputs": [],
   "source": []
  }
 ],
 "metadata": {
  "kernelspec": {
   "display_name": "Python 3 (ipykernel)",
   "language": "python",
   "name": "python3"
  },
  "language_info": {
   "codemirror_mode": {
    "name": "ipython",
    "version": 3
   },
   "file_extension": ".py",
   "mimetype": "text/x-python",
   "name": "python",
   "nbconvert_exporter": "python",
   "pygments_lexer": "ipython3",
   "version": "3.11.3"
  }
 },
 "nbformat": 4,
 "nbformat_minor": 5
}
